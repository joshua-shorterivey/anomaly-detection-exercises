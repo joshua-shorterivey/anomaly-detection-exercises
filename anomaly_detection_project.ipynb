{
 "cells": [
  {
   "cell_type": "markdown",
   "metadata": {},
   "source": [
    "# Imports"
   ]
  },
  {
   "cell_type": "code",
   "execution_count": 1,
   "metadata": {},
   "outputs": [],
   "source": [
    "# from __future__ import division\n",
    "import itertools\n",
    "import warnings\n",
    "warnings.filterwarnings(\"ignore\")\n",
    "import matplotlib.pyplot as plt\n",
    "import matplotlib.dates as mdates\n",
    "import numpy as np\n",
    "import pandas as pd\n",
    "import math\n",
    "from sklearn import metrics\n",
    "from random import randint\n",
    "from matplotlib import style\n",
    "import seaborn as sns\n",
    "\n",
    "from sklearn.cluster import DBSCAN\n",
    "from sklearn.preprocessing import MinMaxScaler"
   ]
  },
  {
   "cell_type": "code",
   "execution_count": 3,
   "metadata": {},
   "outputs": [],
   "source": [
    "# Import .txt file and convert it to a DataFrame object\n",
    "df = pd.read_table(\"anonymized-curriculum-access.txt\", sep = '\\s', header = None, \n",
    "                   names = ['date', 'time', 'page', 'id', 'cohort', 'ip'])"
   ]
  },
  {
   "cell_type": "code",
   "execution_count": 5,
   "metadata": {},
   "outputs": [
    {
     "name": "stdout",
     "output_type": "stream",
     "text": [
      "<class 'pandas.core.frame.DataFrame'>\n",
      "RangeIndex: 900223 entries, 0 to 900222\n",
      "Data columns (total 6 columns):\n",
      " #   Column  Non-Null Count   Dtype  \n",
      "---  ------  --------------   -----  \n",
      " 0   date    900223 non-null  object \n",
      " 1   time    900223 non-null  object \n",
      " 2   page    900222 non-null  object \n",
      " 3   id      900223 non-null  int64  \n",
      " 4   cohort  847330 non-null  float64\n",
      " 5   ip      900223 non-null  object \n",
      "dtypes: float64(1), int64(1), object(4)\n",
      "memory usage: 41.2+ MB\n"
     ]
    }
   ],
   "source": [
    "df.info()"
   ]
  },
  {
   "cell_type": "code",
   "execution_count": 12,
   "metadata": {},
   "outputs": [
    {
     "ename": "AttributeError",
     "evalue": "'DataFrame' object has no attribute 'date'",
     "output_type": "error",
     "traceback": [
      "\u001b[0;31m---------------------------------------------------------------------------\u001b[0m",
      "\u001b[0;31mAttributeError\u001b[0m                            Traceback (most recent call last)",
      "\u001b[1;32m/Users/sinao/codeup-data-science/anomaly-detection-exercises/anomaly_detection_project.ipynb Cell 5\u001b[0m in \u001b[0;36m<cell line: 1>\u001b[0;34m()\u001b[0m\n\u001b[0;32m----> <a href='vscode-notebook-cell:/Users/sinao/codeup-data-science/anomaly-detection-exercises/anomaly_detection_project.ipynb#X16sZmlsZQ%3D%3D?line=0'>1</a>\u001b[0m df\u001b[39m.\u001b[39mdate \u001b[39m=\u001b[39m pd\u001b[39m.\u001b[39mto_datetime(df\u001b[39m.\u001b[39;49mdate)\n",
      "File \u001b[0;32m/opt/homebrew/anaconda3/lib/python3.9/site-packages/pandas/core/generic.py:5575\u001b[0m, in \u001b[0;36mNDFrame.__getattr__\u001b[0;34m(self, name)\u001b[0m\n\u001b[1;32m   5568\u001b[0m \u001b[39mif\u001b[39;00m (\n\u001b[1;32m   5569\u001b[0m     name \u001b[39mnot\u001b[39;00m \u001b[39min\u001b[39;00m \u001b[39mself\u001b[39m\u001b[39m.\u001b[39m_internal_names_set\n\u001b[1;32m   5570\u001b[0m     \u001b[39mand\u001b[39;00m name \u001b[39mnot\u001b[39;00m \u001b[39min\u001b[39;00m \u001b[39mself\u001b[39m\u001b[39m.\u001b[39m_metadata\n\u001b[1;32m   5571\u001b[0m     \u001b[39mand\u001b[39;00m name \u001b[39mnot\u001b[39;00m \u001b[39min\u001b[39;00m \u001b[39mself\u001b[39m\u001b[39m.\u001b[39m_accessors\n\u001b[1;32m   5572\u001b[0m     \u001b[39mand\u001b[39;00m \u001b[39mself\u001b[39m\u001b[39m.\u001b[39m_info_axis\u001b[39m.\u001b[39m_can_hold_identifiers_and_holds_name(name)\n\u001b[1;32m   5573\u001b[0m ):\n\u001b[1;32m   5574\u001b[0m     \u001b[39mreturn\u001b[39;00m \u001b[39mself\u001b[39m[name]\n\u001b[0;32m-> 5575\u001b[0m \u001b[39mreturn\u001b[39;00m \u001b[39mobject\u001b[39;49m\u001b[39m.\u001b[39;49m\u001b[39m__getattribute__\u001b[39;49m(\u001b[39mself\u001b[39;49m, name)\n",
      "\u001b[0;31mAttributeError\u001b[0m: 'DataFrame' object has no attribute 'date'"
     ]
    }
   ],
   "source": [
    "df.date = pd.to_datetime(df.date)\n",
    "df = df.set_index('date')"
   ]
  },
  {
   "cell_type": "markdown",
   "metadata": {},
   "source": [
    "# 1. Which lesson appears to attract the most traffic consistently across cohorts (per program)?"
   ]
  },
  {
   "cell_type": "code",
   "execution_count": 40,
   "metadata": {},
   "outputs": [],
   "source": [
    "df = df[df.page != '/']"
   ]
  },
  {
   "cell_type": "code",
   "execution_count": 95,
   "metadata": {},
   "outputs": [
    {
     "data": {
      "text/plain": [
       "28.0     77691\n",
       "33.0     39077\n",
       "29.0     36298\n",
       "62.0     35413\n",
       "53.0     34864\n",
       "24.0     33535\n",
       "56.0     32222\n",
       "57.0     32117\n",
       "51.0     31421\n",
       "22.0     29098\n",
       "59.0     29035\n",
       "58.0     28490\n",
       "32.0     28401\n",
       "23.0     26893\n",
       "26.0     26825\n",
       "52.0     26738\n",
       "34.0     24571\n",
       "25.0     24454\n",
       "31.0     24185\n",
       "132.0    22752\n",
       "55.0     19870\n",
       "27.0     19762\n",
       "61.0     16941\n",
       "134.0    16132\n",
       "135.0    15698\n",
       "133.0    13600\n",
       "14.0      9462\n",
       "1.0       8264\n",
       "137.0     7978\n",
       "21.0      6814\n",
       "138.0     6804\n",
       "17.0      4705\n",
       "13.0      2626\n",
       "18.0      2009\n",
       "139.0     1541\n",
       "8.0       1502\n",
       "19.0      1086\n",
       "16.0       718\n",
       "15.0       658\n",
       "7.0        547\n",
       "12.0       294\n",
       "11.0       234\n",
       "2.0         76\n",
       "6.0         68\n",
       "9.0          4\n",
       "4.0          3\n",
       "Name: cohort, dtype: int64"
      ]
     },
     "execution_count": 95,
     "metadata": {},
     "output_type": "execute_result"
    }
   ],
   "source": [
    "# what are the lessons, what are the cohorts, and what cohorts and normally associated with what programs\n",
    "# group by cohort, rank by lesson \n",
    "df.cohort.value_counts()"
   ]
  },
  {
   "cell_type": "code",
   "execution_count": 48,
   "metadata": {},
   "outputs": [
    {
     "data": {
      "text/plain": [
       "28.0     77691\n",
       "33.0     39077\n",
       "29.0     36298\n",
       "62.0     35413\n",
       "53.0     34864\n",
       "24.0     33535\n",
       "56.0     32222\n",
       "57.0     32117\n",
       "51.0     31421\n",
       "22.0     29098\n",
       "59.0     29035\n",
       "58.0     28490\n",
       "32.0     28401\n",
       "23.0     26893\n",
       "26.0     26825\n",
       "52.0     26738\n",
       "34.0     24571\n",
       "25.0     24454\n",
       "31.0     24185\n",
       "132.0    22752\n",
       "55.0     19870\n",
       "27.0     19762\n",
       "61.0     16941\n",
       "134.0    16132\n",
       "135.0    15698\n",
       "133.0    13600\n",
       "14.0      9462\n",
       "1.0       8264\n",
       "137.0     7978\n",
       "21.0      6814\n",
       "138.0     6804\n",
       "17.0      4705\n",
       "13.0      2626\n",
       "18.0      2009\n",
       "139.0     1541\n",
       "8.0       1502\n",
       "19.0      1086\n",
       "16.0       718\n",
       "15.0       658\n",
       "7.0        547\n",
       "12.0       294\n",
       "11.0       234\n",
       "2.0         76\n",
       "6.0         68\n",
       "9.0          4\n",
       "4.0          3\n",
       "Name: cohort, dtype: int64"
      ]
     },
     "execution_count": 48,
     "metadata": {},
     "output_type": "execute_result"
    }
   ],
   "source": [
    "df.cohort.value_counts()"
   ]
  },
  {
   "cell_type": "code",
   "execution_count": 112,
   "metadata": {},
   "outputs": [
    {
     "name": "stdout",
     "output_type": "stream",
     "text": [
      "8.0\n",
      "java-iii    57\n",
      "Name: page, dtype: int64\n",
      "---\n",
      "22.0\n",
      "spring    744\n",
      "Name: page, dtype: int64\n",
      "---\n",
      "21.0\n",
      "spring    364\n",
      "Name: page, dtype: int64\n",
      "---\n",
      "1.0\n",
      "javascript-i    294\n",
      "Name: page, dtype: int64\n",
      "---\n",
      "16.0\n",
      "spring    65\n",
      "Name: page, dtype: int64\n",
      "---\n",
      "18.0\n",
      "javascript-i    69\n",
      "Name: page, dtype: int64\n",
      "---\n",
      "19.0\n",
      "content/laravel/intro    38\n",
      "Name: page, dtype: int64\n",
      "---\n",
      "nan\n",
      "Series([], Name: page, dtype: int64)\n",
      "---\n",
      "13.0\n",
      "index.html    84\n",
      "Name: page, dtype: int64\n",
      "---\n",
      "14.0\n",
      "index.html    877\n",
      "Name: page, dtype: int64\n",
      "---\n",
      "15.0\n",
      "java-i    19\n",
      "Name: page, dtype: int64\n",
      "---\n",
      "7.0\n",
      "content/html-css    29\n",
      "Name: page, dtype: int64\n",
      "---\n",
      "4.0\n",
      "mkdocs/search_index.json    1\n",
      "Name: page, dtype: int64\n",
      "---\n",
      "12.0\n",
      "content/html-css    19\n",
      "Name: page, dtype: int64\n",
      "---\n",
      "17.0\n",
      "javascript-i    128\n",
      "Name: page, dtype: int64\n",
      "---\n",
      "23.0\n",
      "mkdocs/search_index.json    721\n",
      "Name: page, dtype: int64\n",
      "---\n",
      "2.0\n",
      "content/php_ii/command-line    6\n",
      "Name: page, dtype: int64\n",
      "---\n",
      "9.0\n",
      "content/html-css    2\n",
      "Name: page, dtype: int64\n",
      "---\n",
      "11.0\n",
      "html-css    12\n",
      "Name: page, dtype: int64\n",
      "---\n",
      "24.0\n",
      "javascript-i    884\n",
      "Name: page, dtype: int64\n",
      "---\n",
      "25.0\n",
      "toc    991\n",
      "Name: page, dtype: int64\n",
      "---\n",
      "26.0\n",
      "javascript-i    722\n",
      "Name: page, dtype: int64\n",
      "---\n",
      "6.0\n",
      "javascript-ii/es6    10\n",
      "Name: page, dtype: int64\n",
      "---\n",
      "27.0\n",
      "toc    697\n",
      "Name: page, dtype: int64\n",
      "---\n",
      "28.0\n",
      "javascript-i    1817\n",
      "Name: page, dtype: int64\n",
      "---\n",
      "29.0\n",
      "toc    1465\n",
      "Name: page, dtype: int64\n",
      "---\n",
      "31.0\n",
      "toc    638\n",
      "Name: page, dtype: int64\n",
      "---\n",
      "32.0\n",
      "search/search_index.json    761\n",
      "Name: page, dtype: int64\n",
      "---\n",
      "33.0\n",
      "search/search_index.json    1380\n",
      "Name: page, dtype: int64\n",
      "---\n",
      "34.0\n",
      "1-fundamentals/modern-data-scientist.jpg    650\n",
      "Name: page, dtype: int64\n",
      "---\n",
      "51.0\n",
      "javascript-i    896\n",
      "Name: page, dtype: int64\n",
      "---\n",
      "52.0\n",
      "toc    964\n",
      "Name: page, dtype: int64\n",
      "---\n",
      "53.0\n",
      "toc    1293\n",
      "Name: page, dtype: int64\n",
      "---\n",
      "55.0\n",
      "6-regression/1-overview    595\n",
      "Name: page, dtype: int64\n",
      "---\n",
      "56.0\n",
      "search/search_index.json    1497\n",
      "Name: page, dtype: int64\n",
      "---\n",
      "57.0\n",
      "search/search_index.json    1095\n",
      "Name: page, dtype: int64\n",
      "---\n",
      "58.0\n",
      "toc    1022\n",
      "Name: page, dtype: int64\n",
      "---\n",
      "59.0\n",
      "classification/overview    1109\n",
      "Name: page, dtype: int64\n",
      "---\n",
      "61.0\n",
      "search/search_index.json    660\n",
      "Name: page, dtype: int64\n",
      "---\n",
      "62.0\n",
      "toc    1866\n",
      "Name: page, dtype: int64\n",
      "---\n",
      "132.0\n",
      "javascript-i    631\n",
      "Name: page, dtype: int64\n",
      "---\n",
      "134.0\n",
      "javascript-i    676\n",
      "Name: page, dtype: int64\n",
      "---\n",
      "133.0\n",
      "classification/scale_features_or_not.svg    463\n",
      "Name: page, dtype: int64\n",
      "---\n",
      "135.0\n",
      "toc    910\n",
      "Name: page, dtype: int64\n",
      "---\n",
      "137.0\n",
      "fundamentals/modern-data-scientist.jpg    627\n",
      "Name: page, dtype: int64\n",
      "---\n",
      "138.0\n",
      "toc    451\n",
      "Name: page, dtype: int64\n",
      "---\n",
      "139.0\n",
      "javascript-i/introduction/operators    179\n",
      "Name: page, dtype: int64\n",
      "---\n"
     ]
    }
   ],
   "source": [
    "for cohort in df.cohort.unique():\n",
    "    print(cohort)\n",
    "    print(df[df.cohort == cohort].page.value_counts().sort_values(ascending=False).head(1))\n",
    "    print('---')\n"
   ]
  },
  {
   "cell_type": "code",
   "execution_count": 109,
   "metadata": {},
   "outputs": [
    {
     "data": {
      "text/plain": [
       "javascript-i    1817\n",
       "Name: page, dtype: int64"
      ]
     },
     "execution_count": 109,
     "metadata": {},
     "output_type": "execute_result"
    }
   ],
   "source": [
    "df[df.cohort == 28].page.value_counts().sort_values(ascending=False).head(1)"
   ]
  },
  {
   "cell_type": "code",
   "execution_count": 107,
   "metadata": {},
   "outputs": [
    {
     "data": {
      "text/plain": [
       "cohort  time      page                                                                       id   ip            \n",
       "53.0    17:41:11  slides/arrays                                                              570  172.124.67.93     12\n",
       "        17:42:00  slides/arrays                                                              570  172.124.67.93     10\n",
       "        17:41:10  slides/arrays                                                              570  172.124.67.93     10\n",
       "        17:41:09  slides/arrays                                                              570  172.124.67.93      9\n",
       "        17:42:01  slides/arrays                                                              570  172.124.67.93      8\n",
       "                                                                                                                    ..\n",
       "28.0    18:13:43  javascript-i/loops                                                         146  97.105.19.58       1\n",
       "                  mysql/tables                                                               816  76.187.230.164     1\n",
       "        18:13:45  mysql/databases                                                            816  76.187.230.164     1\n",
       "        18:13:46  java-i                                                                     545  52.144.111.131     1\n",
       "139.0   23:58:53  javascript-i/introduction/working-with-data-types-operators-and-variables  965  107.204.52.180     1\n",
       "Length: 797938, dtype: int64"
      ]
     },
     "execution_count": 107,
     "metadata": {},
     "output_type": "execute_result"
    }
   ],
   "source": [
    "df.groupby(['cohort']).value_counts().sort_values(ascending=False)"
   ]
  },
  {
   "cell_type": "code",
   "execution_count": 71,
   "metadata": {},
   "outputs": [],
   "source": [
    "df2 = df.copy()"
   ]
  },
  {
   "cell_type": "markdown",
   "metadata": {},
   "source": [
    "# 2. Is there a cohort that referred to a lesson significantly more than other cohorts seemed to gloss over?\n"
   ]
  },
  {
   "cell_type": "markdown",
   "metadata": {},
   "source": [
    "# 3. Are there students who, when active, hardly access the curriculum? If so, what information do you have about these students?\n"
   ]
  },
  {
   "cell_type": "markdown",
   "metadata": {},
   "source": [
    "# 4. Is there any suspicious activity, such as users/machines/etc accessing the curriculum who shouldn’t be? Does it appear that any web-scraping is happening? Are there any suspicious IP addresses?\n"
   ]
  },
  {
   "cell_type": "markdown",
   "metadata": {},
   "source": [
    "# 5. At some point in 2019, the ability for students and alumni to access both curriculums (web dev to ds, ds to web dev) should have been shut off. Do you see any evidence of that happening? Did it happen before?\n"
   ]
  },
  {
   "cell_type": "markdown",
   "metadata": {},
   "source": [
    "# 6. What topics are grads continuing to reference after graduation and into their jobs (for each program)?\n"
   ]
  },
  {
   "cell_type": "markdown",
   "metadata": {},
   "source": [
    "# 7. Which lessons are least accessed? \n"
   ]
  }
 ],
 "metadata": {
  "kernelspec": {
   "display_name": "Python 3.9.12 ('base')",
   "language": "python",
   "name": "python3"
  },
  "language_info": {
   "codemirror_mode": {
    "name": "ipython",
    "version": 3
   },
   "file_extension": ".py",
   "mimetype": "text/x-python",
   "name": "python",
   "nbconvert_exporter": "python",
   "pygments_lexer": "ipython3",
   "version": "3.9.12"
  },
  "orig_nbformat": 4,
  "vscode": {
   "interpreter": {
    "hash": "38cca0c38332a56087b24af0bc80247f4fced29cb4f7f437d91dc159adec9c4e"
   }
  }
 },
 "nbformat": 4,
 "nbformat_minor": 2
}
