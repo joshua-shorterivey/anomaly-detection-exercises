{
 "cells": [
  {
   "cell_type": "markdown",
   "metadata": {},
   "source": [
    "# Exercises\n",
    "\n",
    "> * Using the repo setup directions, setup a new local and remote repository named anomaly-detection-exercises. The local version of your repo should live inside of ~/codeup-data-science. This repo should be named anomaly-detection-exercises\n",
    "> * Save this work in your anomaly-detection-exercises repo. Then add, commit, and push your changes.\n",
    "> * Save the work in either continuous_probabilistic_methods.py or continuous_probabilistic_methods.ipynb\n",
    "\n"
   ]
  },
  {
   "cell_type": "code",
   "execution_count": 1,
   "metadata": {},
   "outputs": [],
   "source": [
    "# Imports\n",
    "import numpy as np\n",
    "import pandas as pd\n",
    "import matplotlib.pyplot as plt\n",
    "import seaborn as sns\n",
    "import warnings\n",
    "warnings.filterwarnings('ignore')"
   ]
  },
  {
   "cell_type": "code",
   "execution_count": 2,
   "metadata": {},
   "outputs": [],
   "source": [
    "# import lemonade.csv\n",
    "df = pd.read_csv('lemonade.csv')"
   ]
  },
  {
   "cell_type": "code",
   "execution_count": 3,
   "metadata": {},
   "outputs": [
    {
     "data": {
      "text/html": [
       "<div>\n",
       "<style scoped>\n",
       "    .dataframe tbody tr th:only-of-type {\n",
       "        vertical-align: middle;\n",
       "    }\n",
       "\n",
       "    .dataframe tbody tr th {\n",
       "        vertical-align: top;\n",
       "    }\n",
       "\n",
       "    .dataframe thead th {\n",
       "        text-align: right;\n",
       "    }\n",
       "</style>\n",
       "<table border=\"1\" class=\"dataframe\">\n",
       "  <thead>\n",
       "    <tr style=\"text-align: right;\">\n",
       "      <th></th>\n",
       "      <th>Date</th>\n",
       "      <th>Day</th>\n",
       "      <th>Temperature</th>\n",
       "      <th>Rainfall</th>\n",
       "      <th>Flyers</th>\n",
       "      <th>Price</th>\n",
       "      <th>Sales</th>\n",
       "    </tr>\n",
       "  </thead>\n",
       "  <tbody>\n",
       "    <tr>\n",
       "      <th>0</th>\n",
       "      <td>1/1/17</td>\n",
       "      <td>Sunday</td>\n",
       "      <td>27.0</td>\n",
       "      <td>2.00</td>\n",
       "      <td>15</td>\n",
       "      <td>0.5</td>\n",
       "      <td>10</td>\n",
       "    </tr>\n",
       "    <tr>\n",
       "      <th>1</th>\n",
       "      <td>1/2/17</td>\n",
       "      <td>Monday</td>\n",
       "      <td>28.9</td>\n",
       "      <td>1.33</td>\n",
       "      <td>15</td>\n",
       "      <td>0.5</td>\n",
       "      <td>13</td>\n",
       "    </tr>\n",
       "    <tr>\n",
       "      <th>2</th>\n",
       "      <td>1/3/17</td>\n",
       "      <td>Tuesday</td>\n",
       "      <td>34.5</td>\n",
       "      <td>1.33</td>\n",
       "      <td>27</td>\n",
       "      <td>0.5</td>\n",
       "      <td>15</td>\n",
       "    </tr>\n",
       "    <tr>\n",
       "      <th>3</th>\n",
       "      <td>1/4/17</td>\n",
       "      <td>Wednesday</td>\n",
       "      <td>44.1</td>\n",
       "      <td>1.05</td>\n",
       "      <td>28</td>\n",
       "      <td>0.5</td>\n",
       "      <td>17</td>\n",
       "    </tr>\n",
       "    <tr>\n",
       "      <th>4</th>\n",
       "      <td>1/5/17</td>\n",
       "      <td>Thursday</td>\n",
       "      <td>42.4</td>\n",
       "      <td>1.00</td>\n",
       "      <td>33</td>\n",
       "      <td>0.5</td>\n",
       "      <td>18</td>\n",
       "    </tr>\n",
       "  </tbody>\n",
       "</table>\n",
       "</div>"
      ],
      "text/plain": [
       "     Date        Day  Temperature  Rainfall  Flyers  Price  Sales\n",
       "0  1/1/17     Sunday         27.0      2.00      15    0.5     10\n",
       "1  1/2/17     Monday         28.9      1.33      15    0.5     13\n",
       "2  1/3/17    Tuesday         34.5      1.33      27    0.5     15\n",
       "3  1/4/17  Wednesday         44.1      1.05      28    0.5     17\n",
       "4  1/5/17   Thursday         42.4      1.00      33    0.5     18"
      ]
     },
     "execution_count": 3,
     "metadata": {},
     "output_type": "execute_result"
    }
   ],
   "source": [
    "df.head()"
   ]
  },
  {
   "cell_type": "code",
   "execution_count": 4,
   "metadata": {},
   "outputs": [
    {
     "data": {
      "text/html": [
       "<div>\n",
       "<style scoped>\n",
       "    .dataframe tbody tr th:only-of-type {\n",
       "        vertical-align: middle;\n",
       "    }\n",
       "\n",
       "    .dataframe tbody tr th {\n",
       "        vertical-align: top;\n",
       "    }\n",
       "\n",
       "    .dataframe thead th {\n",
       "        text-align: right;\n",
       "    }\n",
       "</style>\n",
       "<table border=\"1\" class=\"dataframe\">\n",
       "  <thead>\n",
       "    <tr style=\"text-align: right;\">\n",
       "      <th></th>\n",
       "      <th>Date</th>\n",
       "      <th>Day</th>\n",
       "      <th>Temperature</th>\n",
       "      <th>Rainfall</th>\n",
       "      <th>Flyers</th>\n",
       "      <th>Price</th>\n",
       "      <th>Sales</th>\n",
       "    </tr>\n",
       "  </thead>\n",
       "  <tbody>\n",
       "    <tr>\n",
       "      <th>360</th>\n",
       "      <td>12/27/17</td>\n",
       "      <td>Wednesday</td>\n",
       "      <td>42.7</td>\n",
       "      <td>1.00</td>\n",
       "      <td>33</td>\n",
       "      <td>0.5</td>\n",
       "      <td>19</td>\n",
       "    </tr>\n",
       "    <tr>\n",
       "      <th>361</th>\n",
       "      <td>12/28/17</td>\n",
       "      <td>Thursday</td>\n",
       "      <td>37.8</td>\n",
       "      <td>1.25</td>\n",
       "      <td>32</td>\n",
       "      <td>0.5</td>\n",
       "      <td>16</td>\n",
       "    </tr>\n",
       "    <tr>\n",
       "      <th>362</th>\n",
       "      <td>12/29/17</td>\n",
       "      <td>Friday</td>\n",
       "      <td>39.5</td>\n",
       "      <td>1.25</td>\n",
       "      <td>17</td>\n",
       "      <td>0.5</td>\n",
       "      <td>15</td>\n",
       "    </tr>\n",
       "    <tr>\n",
       "      <th>363</th>\n",
       "      <td>12/30/17</td>\n",
       "      <td>Saturday</td>\n",
       "      <td>30.9</td>\n",
       "      <td>1.43</td>\n",
       "      <td>22</td>\n",
       "      <td>0.5</td>\n",
       "      <td>13</td>\n",
       "    </tr>\n",
       "    <tr>\n",
       "      <th>364</th>\n",
       "      <td>12/31/17</td>\n",
       "      <td>Sunday</td>\n",
       "      <td>15.1</td>\n",
       "      <td>2.50</td>\n",
       "      <td>9</td>\n",
       "      <td>0.5</td>\n",
       "      <td>7</td>\n",
       "    </tr>\n",
       "  </tbody>\n",
       "</table>\n",
       "</div>"
      ],
      "text/plain": [
       "         Date        Day  Temperature  Rainfall  Flyers  Price  Sales\n",
       "360  12/27/17  Wednesday         42.7      1.00      33    0.5     19\n",
       "361  12/28/17   Thursday         37.8      1.25      32    0.5     16\n",
       "362  12/29/17     Friday         39.5      1.25      17    0.5     15\n",
       "363  12/30/17   Saturday         30.9      1.43      22    0.5     13\n",
       "364  12/31/17     Sunday         15.1      2.50       9    0.5      7"
      ]
     },
     "execution_count": 4,
     "metadata": {},
     "output_type": "execute_result"
    }
   ],
   "source": [
    "df.tail()"
   ]
  },
  {
   "cell_type": "code",
   "execution_count": 5,
   "metadata": {},
   "outputs": [
    {
     "name": "stdout",
     "output_type": "stream",
     "text": [
      "<class 'pandas.core.frame.DataFrame'>\n",
      "RangeIndex: 365 entries, 0 to 364\n",
      "Data columns (total 7 columns):\n",
      " #   Column       Non-Null Count  Dtype  \n",
      "---  ------       --------------  -----  \n",
      " 0   Date         365 non-null    object \n",
      " 1   Day          365 non-null    object \n",
      " 2   Temperature  365 non-null    float64\n",
      " 3   Rainfall     365 non-null    float64\n",
      " 4   Flyers       365 non-null    int64  \n",
      " 5   Price        365 non-null    float64\n",
      " 6   Sales        365 non-null    int64  \n",
      "dtypes: float64(3), int64(2), object(2)\n",
      "memory usage: 20.1+ KB\n"
     ]
    }
   ],
   "source": [
    "df.info()"
   ]
  },
  {
   "cell_type": "code",
   "execution_count": 6,
   "metadata": {},
   "outputs": [
    {
     "data": {
      "text/plain": [
       "Date           365\n",
       "Day              7\n",
       "Temperature    176\n",
       "Rainfall        35\n",
       "Flyers          63\n",
       "Price            1\n",
       "Sales           39\n",
       "dtype: int64"
      ]
     },
     "execution_count": 6,
     "metadata": {},
     "output_type": "execute_result"
    }
   ],
   "source": [
    "df.nunique()"
   ]
  },
  {
   "cell_type": "markdown",
   "metadata": {},
   "source": [
    "## Takeaways\n",
    "* Seven columns, possible to make that `Date` column into datetime and then change it over to index \n",
    "* data appears to cover entire year"
   ]
  },
  {
   "cell_type": "code",
   "execution_count": 8,
   "metadata": {},
   "outputs": [],
   "source": [
    "df['Date'] = pd.to_datetime(df.Date)"
   ]
  },
  {
   "cell_type": "code",
   "execution_count": 10,
   "metadata": {},
   "outputs": [],
   "source": [
    "df = df.set_index('Date')"
   ]
  },
  {
   "cell_type": "code",
   "execution_count": 11,
   "metadata": {},
   "outputs": [
    {
     "data": {
      "image/png": "[encoded data removed]",
      "text/plain": [
       "<Figure size 432x288 with 1 Axes>"
      ]
     },
     "metadata": {
      "needs_background": "light"
     },
     "output_type": "display_data"
    },
    {
     "data": {
      "image/png": "[encoded data removed]",
      "text/plain": [
       "<Figure size 432x288 with 1 Axes>"
      ]
     },
     "metadata": {
      "needs_background": "light"
     },
     "output_type": "display_data"
    },
    {
     "data": {
      "image/png": "[encoded data removed]",
      "text/plain": [
       "<Figure size 432x288 with 1 Axes>"
      ]
     },
     "metadata": {
      "needs_background": "light"
     },
     "output_type": "display_data"
    },
    {
     "data": {
      "image/png": "[encoded data removed]",
      "text/plain": [
       "<Figure size 432x288 with 1 Axes>"
      ]
     },
     "metadata": {
      "needs_background": "light"
     },
     "output_type": "display_data"
    },
    {
     "data": {
      "image/png": "[encoded data removed]",
      "text/plain": [
       "<Figure size 432x288 with 1 Axes>"
      ]
     },
     "metadata": {
      "needs_background": "light"
     },
     "output_type": "display_data"
    },
    {
     "data": {
      "image/png": "[encoded data removed]",
      "text/plain": [
       "<Figure size 432x288 with 1 Axes>"
      ]
     },
     "metadata": {
      "needs_background": "light"
     },
     "output_type": "display_data"
    }
   ],
   "source": [
    "## Visualizations of Data\n",
    "## figure out home to make them pop out in a facet grid or row\n",
    "for col in df.columns:\n",
    "    df[col].hist()\n",
    "    plt.title(col)\n",
    "    plt.show()"
   ]
  },
  {
   "cell_type": "markdown",
   "metadata": {},
   "source": [
    "## Takeaways\n",
    "* Days like uniform distribution\n",
    "* Temperatature, Rainfall,  with some outliers, skewed right\n",
    "* Flyers skewed left\n",
    "* Look closer at price\n",
    "* sales with outliers in 3 clumps"
   ]
  },
  {
   "cell_type": "code",
   "execution_count": 14,
   "metadata": {},
   "outputs": [],
   "source": [
    "# for ready made grouping and analysis\n",
    "df['month'] = df.index.month_name()"
   ]
  },
  {
   "cell_type": "code",
   "execution_count": 18,
   "metadata": {},
   "outputs": [
    {
     "data": {
      "image/png": "[encoded data removed]",
      "text/plain": [
       "<Figure size 432x288 with 1 Axes>"
      ]
     },
     "metadata": {
      "needs_background": "light"
     },
     "output_type": "display_data"
    }
   ],
   "source": [
    "plt.scatter(df.month, df.Rainfall)\n",
    "plt.xticks(rotation=90)\n",
    "plt.title('Rainfall by Month')\n",
    "plt.show()"
   ]
  },
  {
   "cell_type": "code",
   "execution_count": 17,
   "metadata": {},
   "outputs": [
    {
     "data": {
      "image/png": "[encoded data removed]",
      "text/plain": [
       "<Figure size 432x288 with 1 Axes>"
      ]
     },
     "metadata": {
      "needs_background": "light"
     },
     "output_type": "display_data"
    }
   ],
   "source": [
    "plt.scatter(df.month, df.Sales)\n",
    "plt.xticks(rotation=90)\n",
    "plt.title('Sales by Month')\n",
    "plt.show()"
   ]
  },
  {
   "cell_type": "markdown",
   "metadata": {},
   "source": [
    "## Takeaways\n",
    "* Outliers for `rainfall` happening in december and january. \n",
    "* All outliers for sales take place in July"
   ]
  },
  {
   "cell_type": "markdown",
   "metadata": {},
   "source": [
    "# 1. Define a function named get_lower_and_upper_bounds that has two arguments. \n",
    "* The first argument is a pandas Series. \n",
    "* The second argument is the multiplier, which should have a default argument of 1.5."
   ]
  },
  {
   "cell_type": "code",
   "execution_count": 19,
   "metadata": {},
   "outputs": [],
   "source": [
    "def get_lower_and_upper_bounds(col, multiplier=1.5):\n",
    "    \"\"\"\n",
    "    Purpose: apply the Tukey method to create fences for outliers\n",
    "    ---\n",
    "    Parameters:\n",
    "        col: a pandas Series\n",
    "        multiplier: default = 1.5, float, magnitude specified for the IQR rule\n",
    "    ---\n",
    "    Returns:\n",
    "    lower_bound: float representing requested lower fence value\n",
    "    upper_bound: float  representing requested upper fence value\n",
    "    \"\"\"\n",
    "\n",
    "    q1 = col.quantile(0.25)\n",
    "    q3 = col.quantile(0.75)\n",
    "    iqr = q3 - q1\n",
    "    lower_bound = q1 - multiplier * iqr\n",
    "    upper_buond = q3 + multiplier * iqr\n",
    "\n",
    "    return lower_bound, upper_buond"
   ]
  },
  {
   "cell_type": "code",
   "execution_count": 20,
   "metadata": {},
   "outputs": [
    {
     "data": {
      "text/plain": [
       "(-0.13, 1.69)"
      ]
     },
     "execution_count": 20,
     "metadata": {},
     "output_type": "execute_result"
    }
   ],
   "source": [
    "#test out function\n",
    "get_lower_and_upper_bounds(df.Rainfall, multiplier=3)"
   ]
  },
  {
   "cell_type": "markdown",
   "metadata": {},
   "source": [
    "# 1. Using lemonade.csv dataset and focusing on continuous variables:"
   ]
  },
  {
   "cell_type": "code",
   "execution_count": 22,
   "metadata": {},
   "outputs": [],
   "source": [
    "continuous_col = [\"Temperature\", 'Rainfall', 'Flyers', 'Price', 'Sales']"
   ]
  },
  {
   "cell_type": "markdown",
   "metadata": {},
   "source": [
    "* Use the IQR Range Rule and the upper and lower bounds to identify the lower outliers of each column of lemonade.csv, using the multiplier of 1.5. Do these lower outliers make sense? Which outliers should be kept?\n",
    "\n",
    "* Use the IQR Range Rule and the upper and upper bounds to identify the upper outliers of each column of lemonade.csv, using the multiplier of 1.5. Do these upper outliers make sense? Which outliers should be kept?\n",
    "\n",
    "* can create dictionary that will hold the outliers for each column in a dataframe, as well as upper nd lower bounds for reference"
   ]
  },
  {
   "cell_type": "code",
   "execution_count": 30,
   "metadata": {},
   "outputs": [
    {
     "name": "stdout",
     "output_type": "stream",
     "text": [
      "Temperature\n",
      "        Lower Bound: 16.700000000000003        Upper Bound: 104.7\n",
      "Rainfall\n",
      "        Lower Bound: 0.26        Upper Bound: 1.3\n",
      "Flyers\n",
      "        Lower Bound: 4.0        Upper Bound: 76.0\n",
      "Price\n",
      "        Lower Bound: 0.5        Upper Bound: 0.5\n",
      "Sales\n",
      "        Lower Bound: 5.0        Upper Bound: 45.0\n"
     ]
    }
   ],
   "source": [
    "outliers = {}\n",
    "for col in continuous_col:\n",
    "    lower_bound,  upper_bound = get_lower_and_upper_bounds(df[col])\n",
    "    print(f'{col}\\n\\\n",
    "        Lower Bound: {lower_bound}\\\n",
    "        Upper Bound: {upper_bound}')\n",
    "    outliers[col] = {}\n",
    "    outliers[col]['bounds'] = {'lower': lower_bound, 'upper': upper_bound}\n",
    "    outliers[col]['df'] = df[(df[col] > upper_bound) | ( df[col] < lower_bound)]"
   ]
  },
  {
   "cell_type": "code",
   "execution_count": 31,
   "metadata": {},
   "outputs": [
    {
     "name": "stdout",
     "output_type": "stream",
     "text": [
      "\n",
      "----------------\n",
      " Temperature \n",
      " | Date                | Day      |   Temperature |   Rainfall |   Flyers |   Price |   Sales | month    |\n",
      "|:--------------------|:---------|--------------:|-----------:|---------:|--------:|--------:|:---------|\n",
      "| 2017-02-11 00:00:00 | Saturday |         212   |       0.91 |       35 |     0.5 |      21 | February |\n",
      "| 2017-12-31 00:00:00 | Sunday   |          15.1 |       2.5  |        9 |     0.5 |       7 | December |\n",
      "\n",
      "----------------\n",
      " Rainfall \n",
      " | Date                | Day       |   Temperature |   Rainfall |   Flyers |   Price |   Sales | month    |\n",
      "|:--------------------|:----------|--------------:|-----------:|---------:|--------:|--------:|:---------|\n",
      "| 2017-01-01 00:00:00 | Sunday    |          27   |       2    |       15 |     0.5 |      10 | January  |\n",
      "| 2017-01-02 00:00:00 | Monday    |          28.9 |       1.33 |       15 |     0.5 |      13 | January  |\n",
      "| 2017-01-03 00:00:00 | Tuesday   |          34.5 |       1.33 |       27 |     0.5 |      15 | January  |\n",
      "| 2017-01-06 00:00:00 | Friday    |          25.3 |       1.54 |       23 |     0.5 |      11 | January  |\n",
      "| 2017-01-07 00:00:00 | Saturday  |          32.9 |       1.54 |       19 |     0.5 |      13 | January  |\n",
      "| 2017-01-11 00:00:00 | Wednesday |          32.6 |       1.54 |       23 |     0.5 |      12 | January  |\n",
      "| 2017-01-12 00:00:00 | Thursday  |          38.2 |       1.33 |       16 |     0.5 |      14 | January  |\n",
      "| 2017-01-13 00:00:00 | Friday    |          37.5 |       1.33 |       19 |     0.5 |      15 | January  |\n",
      "| 2017-01-16 00:00:00 | Monday    |          30.6 |       1.67 |       24 |     0.5 |      12 | January  |\n",
      "| 2017-01-17 00:00:00 | Tuesday   |          32.2 |       1.43 |       26 |     0.5 |      14 | January  |\n",
      "| 2017-01-20 00:00:00 | Friday    |          31.6 |       1.43 |       20 |     0.5 |      12 | January  |\n",
      "| 2017-01-24 00:00:00 | Tuesday   |          28.6 |       1.54 |       20 |     0.5 |      12 | January  |\n",
      "| 2017-01-28 00:00:00 | Saturday  |          34.9 |       1.33 |       15 |     0.5 |      13 | January  |\n",
      "| 2017-01-29 00:00:00 | Sunday    |          35.2 |       1.33 |       27 |     0.5 |      14 | January  |\n",
      "| 2017-12-04 00:00:00 | Monday    |          34.9 |       1.54 |       16 |     0.5 |      13 | December |\n",
      "| 2017-12-05 00:00:00 | Tuesday   |          22   |       1.82 |       11 |     0.5 |      10 | December |\n",
      "| 2017-12-09 00:00:00 | Saturday  |          31.2 |       1.43 |       19 |     0.5 |      14 | December |\n",
      "| 2017-12-10 00:00:00 | Sunday    |          31.3 |       1.82 |       15 |     0.5 |      11 | December |\n",
      "| 2017-12-12 00:00:00 | Tuesday   |          33.5 |       1.33 |       22 |     0.5 |      15 | December |\n",
      "| 2017-12-13 00:00:00 | Wednesday |          32.2 |       1.43 |       26 |     0.5 |      14 | December |\n",
      "| 2017-12-14 00:00:00 | Thursday  |          31.9 |       1.54 |       24 |     0.5 |      13 | December |\n",
      "| 2017-12-17 00:00:00 | Sunday    |          32.2 |       1.33 |       16 |     0.5 |      14 | December |\n",
      "| 2017-12-18 00:00:00 | Monday    |          30.9 |       1.43 |       27 |     0.5 |      13 | December |\n",
      "| 2017-12-21 00:00:00 | Thursday  |          40.5 |       1.33 |       23 |     0.5 |      15 | December |\n",
      "| 2017-12-22 00:00:00 | Friday    |          30.9 |       1.54 |       17 |     0.5 |      13 | December |\n",
      "| 2017-12-26 00:00:00 | Tuesday   |          28.9 |       1.43 |       23 |     0.5 |      13 | December |\n",
      "| 2017-12-30 00:00:00 | Saturday  |          30.9 |       1.43 |       22 |     0.5 |      13 | December |\n",
      "| 2017-12-31 00:00:00 | Sunday    |          15.1 |       2.5  |        9 |     0.5 |       7 | December |\n",
      "\n",
      "----------------\n",
      " Flyers \n",
      " | Date                | Day     |   Temperature |   Rainfall |   Flyers |   Price |   Sales | month    |\n",
      "|:--------------------|:--------|--------------:|-----------:|---------:|--------:|--------:|:---------|\n",
      "| 2017-06-16 00:00:00 | Friday  |          99.3 |       0.47 |       77 |     0.5 |      41 | June     |\n",
      "| 2017-07-14 00:00:00 | Friday  |          92   |       0.5  |       80 |     0.5 |      40 | July     |\n",
      "| 2017-11-21 00:00:00 | Tuesday |          47   |       0.95 |      -38 |     0.5 |      20 | November |\n",
      "\n",
      "----------------\n",
      " Price \n",
      " | Date   | Day   | Temperature   | Rainfall   | Flyers   | Price   | Sales   | month   |\n",
      "|--------|-------|---------------|------------|----------|---------|---------|---------|\n",
      "\n",
      "----------------\n",
      " Sales \n",
      " | Date                | Day      |   Temperature |   Rainfall |   Flyers |   Price |   Sales | month   |\n",
      "|:--------------------|:---------|--------------:|-----------:|---------:|--------:|--------:|:--------|\n",
      "| 2017-07-01 00:00:00 | Saturday |         102.9 |       0.47 |       59 |     0.5 |     143 | July    |\n",
      "| 2017-07-02 00:00:00 | Sunday   |          93.4 |       0.51 |       68 |     0.5 |     158 | July    |\n",
      "| 2017-07-03 00:00:00 | Monday   |          81.5 |       0.54 |       68 |     0.5 |     235 | July    |\n",
      "| 2017-07-04 00:00:00 | Tuesday  |          84.2 |       0.59 |       49 |     0.5 |     534 | July    |\n"
     ]
    },
    {
     "data": {
      "text/plain": [
       "[None, None, None, None, None]"
      ]
     },
     "execution_count": 31,
     "metadata": {},
     "output_type": "execute_result"
    }
   ],
   "source": [
    "[print('\\n----------------\\n', key, '\\n', outliers[key]['df'].to_markdown()) for key in outliers.keys()]"
   ]
  },
  {
   "cell_type": "markdown",
   "metadata": {},
   "source": [
    "* Using the multiplier of 3, IQR Range Rule, and the lower bounds, identify the outliers below the lower bound in each colum of lemonade.csv. Do these lower outliers make sense? Which outliers should be kept?\n"
   ]
  },
  {
   "cell_type": "markdown",
   "metadata": {},
   "source": [
    "* Using the multiplier of 3, IQR Range Rule, and the upper bounds, identify the outliers above the upper_bound in each colum of lemonade.csv. Do these upper outliers make sense? Which outliers should be kept?\n"
   ]
  },
  {
   "cell_type": "code",
   "execution_count": 33,
   "metadata": {},
   "outputs": [
    {
     "name": "stdout",
     "output_type": "stream",
     "text": [
      "Temperature\n",
      "        Lower Bound: -16.299999999999997        Upper Bound: 137.7\n",
      "Rainfall\n",
      "        Lower Bound: -0.13        Upper Bound: 1.69\n",
      "Flyers\n",
      "        Lower Bound: -23.0        Upper Bound: 103.0\n",
      "Price\n",
      "        Lower Bound: 0.5        Upper Bound: 0.5\n",
      "Sales\n",
      "        Lower Bound: -10.0        Upper Bound: 60.0\n"
     ]
    }
   ],
   "source": [
    "outliers_3 = {}\n",
    "for col in continuous_col:\n",
    "    lower_bound,  upper_bound = get_lower_and_upper_bounds(df[col], 3)\n",
    "    print(f'{col}\\n\\\n",
    "        Lower Bound: {lower_bound}\\\n",
    "        Upper Bound: {upper_bound}')\n",
    "    outliers_3[col] = {}\n",
    "    outliers_3[col]['bounds'] = {'lower': lower_bound, 'upper': upper_bound}\n",
    "    outliers_3[col]['df'] = df[(df[col] > upper_bound) | ( df[col] < lower_bound)]"
   ]
  },
  {
   "cell_type": "code",
   "execution_count": 34,
   "metadata": {},
   "outputs": [
    {
     "name": "stdout",
     "output_type": "stream",
     "text": [
      "\n",
      "----------------\n",
      " Temperature \n",
      " | Date                | Day      |   Temperature |   Rainfall |   Flyers |   Price |   Sales | month    |\n",
      "|:--------------------|:---------|--------------:|-----------:|---------:|--------:|--------:|:---------|\n",
      "| 2017-02-11 00:00:00 | Saturday |           212 |       0.91 |       35 |     0.5 |      21 | February |\n",
      "\n",
      "----------------\n",
      " Rainfall \n",
      " | Date                | Day     |   Temperature |   Rainfall |   Flyers |   Price |   Sales | month    |\n",
      "|:--------------------|:--------|--------------:|-----------:|---------:|--------:|--------:|:---------|\n",
      "| 2017-01-01 00:00:00 | Sunday  |          27   |       2    |       15 |     0.5 |      10 | January  |\n",
      "| 2017-12-05 00:00:00 | Tuesday |          22   |       1.82 |       11 |     0.5 |      10 | December |\n",
      "| 2017-12-10 00:00:00 | Sunday  |          31.3 |       1.82 |       15 |     0.5 |      11 | December |\n",
      "| 2017-12-31 00:00:00 | Sunday  |          15.1 |       2.5  |        9 |     0.5 |       7 | December |\n",
      "\n",
      "----------------\n",
      " Flyers \n",
      " | Date                | Day     |   Temperature |   Rainfall |   Flyers |   Price |   Sales | month    |\n",
      "|:--------------------|:--------|--------------:|-----------:|---------:|--------:|--------:|:---------|\n",
      "| 2017-11-21 00:00:00 | Tuesday |            47 |       0.95 |      -38 |     0.5 |      20 | November |\n",
      "\n",
      "----------------\n",
      " Price \n",
      " | Date   | Day   | Temperature   | Rainfall   | Flyers   | Price   | Sales   | month   |\n",
      "|--------|-------|---------------|------------|----------|---------|---------|---------|\n",
      "\n",
      "----------------\n",
      " Sales \n",
      " | Date                | Day      |   Temperature |   Rainfall |   Flyers |   Price |   Sales | month   |\n",
      "|:--------------------|:---------|--------------:|-----------:|---------:|--------:|--------:|:--------|\n",
      "| 2017-07-01 00:00:00 | Saturday |         102.9 |       0.47 |       59 |     0.5 |     143 | July    |\n",
      "| 2017-07-02 00:00:00 | Sunday   |          93.4 |       0.51 |       68 |     0.5 |     158 | July    |\n",
      "| 2017-07-03 00:00:00 | Monday   |          81.5 |       0.54 |       68 |     0.5 |     235 | July    |\n",
      "| 2017-07-04 00:00:00 | Tuesday  |          84.2 |       0.59 |       49 |     0.5 |     534 | July    |\n"
     ]
    },
    {
     "data": {
      "text/plain": [
       "[None, None, None, None, None]"
      ]
     },
     "execution_count": 34,
     "metadata": {},
     "output_type": "execute_result"
    }
   ],
   "source": [
    "[print('\\n----------------\\n', key, '\\n', outliers_3[key]['df'].to_markdown()) for key in outliers_3.keys()]"
   ]
  },
  {
   "cell_type": "markdown",
   "metadata": {},
   "source": [
    "# 2. Identify if any columns in lemonade.csv are normally distributed. "
   ]
  },
  {
   "cell_type": "code",
   "execution_count": 37,
   "metadata": {},
   "outputs": [],
   "source": [
    "#use Shapiro Wilk test for normality\n",
    "from scipy.stats import norm, shapiro"
   ]
  },
  {
   "cell_type": "code",
   "execution_count": 47,
   "metadata": {},
   "outputs": [
    {
     "name": "stdout",
     "output_type": "stream",
     "text": [
      "Temperature\n",
      "W statistic: 0.9153038263320923\n",
      "p statistic: 0.0\n",
      "---\n",
      "Rainfall\n",
      "W statistic: 0.8509272933006287\n",
      "p statistic: 0.0\n",
      "---\n",
      "Flyers\n",
      "W statistic: 0.9747113585472107\n",
      "p statistic: 0.0\n",
      "---\n",
      "Price\n",
      "W statistic: 1.0\n",
      "p statistic: 1.0\n",
      "Price is normally distributed.\n",
      "---\n",
      "Sales\n",
      "W statistic: 0.20651870965957642\n",
      "p statistic: 0.0\n",
      "---\n"
     ]
    },
    {
     "name": "stderr",
     "output_type": "stream",
     "text": [
      "/opt/homebrew/anaconda3/lib/python3.9/site-packages/scipy/stats/morestats.py:1757: UserWarning: Input data for shapiro has range zero. The results may not be accurate.\n",
      "  warnings.warn(\"Input data for shapiro has range zero. The results \"\n"
     ]
    }
   ],
   "source": [
    "#be sure to skip categorical columns\n",
    "for col in continuous_col:\n",
    "    w, p = shapiro(df[col])\n",
    "    print(col)\n",
    "    print(f'W statistic: {w}')\n",
    "    print(f'p statistic: {round(p, 4)}')\n",
    "    if p >.05: print(f'{col} is normally distributed.')\n",
    "    print('---')"
   ]
  },
  {
   "cell_type": "code",
   "execution_count": 48,
   "metadata": {},
   "outputs": [
    {
     "data": {
      "text/plain": [
       "0.5    365\n",
       "Name: Price, dtype: int64"
      ]
     },
     "execution_count": 48,
     "metadata": {},
     "output_type": "execute_result"
    }
   ],
   "source": [
    "df.Price.value_counts()"
   ]
  },
  {
   "cell_type": "markdown",
   "metadata": {},
   "source": [
    "For normally distributed columns:\n",
    "* Use a 2 sigma decision rule to isolate the outliers.\n",
    "> * Do these make sense?\n",
    "> * Should certain outliers be kept or removed?\n"
   ]
  },
  {
   "cell_type": "markdown",
   "metadata": {},
   "source": [
    "# 3. Now use a 3 sigma decision rule to isolate the outliers in the normally distributed columns from lemonade.csv"
   ]
  }
 ],
 "metadata": {
  "kernelspec": {
   "display_name": "Python 3.9.12 ('base')",
   "language": "python",
   "name": "python3"
  },
  "language_info": {
   "codemirror_mode": {
    "name": "ipython",
    "version": 3
   },
   "file_extension": ".py",
   "mimetype": "text/x-python",
   "name": "python",
   "nbconvert_exporter": "python",
   "pygments_lexer": "ipython3",
   "version": "3.9.12"
  },
  "orig_nbformat": 4,
  "vscode": {
   "interpreter": {
    "hash": "38cca0c38332a56087b24af0bc80247f4fced29cb4f7f437d91dc159adec9c4e"
   }
  }
 },
 "nbformat": 4,
 "nbformat_minor": 2
}
